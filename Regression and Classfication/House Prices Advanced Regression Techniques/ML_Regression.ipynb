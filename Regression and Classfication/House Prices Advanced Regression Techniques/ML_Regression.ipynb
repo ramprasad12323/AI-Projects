{
 "cells": [
  {
   "cell_type": "code",
   "execution_count": 1,
   "metadata": {},
   "outputs": [],
   "source": [
    "import pandas as pd"
   ]
  },
  {
   "cell_type": "code",
   "execution_count": 2,
   "metadata": {},
   "outputs": [],
   "source": [
    "Data=pd.read_csv('train.csv')"
   ]
  },
  {
   "cell_type": "code",
   "execution_count": 3,
   "metadata": {},
   "outputs": [],
   "source": [
    "import pandas as pd\n",
    "\n",
    "def nullMng(Data,Null_values='mean'):\n",
    "    for i in range(Data.shape[1]-1):\n",
    "        if Data[Data.columns[i]].dtype=='O':\n",
    "            Data[Data.columns[i]][Data[Data.columns[i]].isnull()]='012789'\n",
    "        else:\n",
    "            if Null_values=='mean':\n",
    "                Data[Data.columns[i]][Data[Data.columns[i]].isnull()]=Data[Data.columns[i]].mean()\n",
    "            elif Null_values=='mode':\n",
    "                Data[Data.columns[i]][Data[Data.columns[i]].isnull()]=Data[Data.columns[i]].mode()\n",
    "            elif Null_values=='median':\n",
    "                Data[Data.columns[i]][Data[Data.columns[i]].isnull()]=Data[Data.columns[i]].median()\n",
    "            else:\n",
    "                Data[Data.columns[i]][Data[Data.columns[i]].isnull()]=Null_values\n",
    "    Data=Data.dropna()\n",
    "    return Data\n",
    "                \n",
    "            \n",
    "\n",
    "def dataEncoding(Data):\n",
    "    Dumies=pd.DataFrame()\n",
    "    for i in range(Data.shape[1]-1):\n",
    "        if Data[Data.columns[i]].dtype=='O':\n",
    "            dum=pd.get_dummies(data=Data[Data.columns[i]])\n",
    "            if '012789' in dum.columns:\n",
    "                dum=dum.drop(['012789'],'columns')\n",
    "            else:\n",
    "                dum=dum.drop(dum.columns[0],'columns')\n",
    "            Dumies=pd.concat([Dumies,dum],'columns')\n",
    "        else:\n",
    "            pass\n",
    "        \n",
    "    y=Data[Data.columns[Data.shape[1]-1]]\n",
    "    Data=Data.drop(Data.columns[Data.shape[1]-1],'columns')\n",
    "    i=0\n",
    "    while(i<Data.shape[1]):\n",
    "        if Data[Data.columns[i]].dtype=='O':\n",
    "            Data=Data.drop(Data.columns[i],'columns')\n",
    "            i=i-1\n",
    "        i=i+1\n",
    "    \n",
    "    Data=pd.concat([Data,Dumies,y],'columns')\n",
    "    return Data\n",
    "    \n",
    "def nullElimination(Data,Threshold=.15):\n",
    "    i=0\n",
    "    while(i<Data.shape[1]-1):\n",
    "        thr=Data[Data.columns[i]].shape[0]*Threshold\n",
    "        if Data[Data.columns[i]][Data[Data.columns[i]].isnull()].shape[0]>thr:\n",
    "            Data=Data.drop(Data.columns[i],'columns')\n",
    "            i=i-1\n",
    "        i=i+1\n",
    "    return Data\n",
    "    \n",
    "def inAprenter(Data):\n",
    "    Data = Data.applymap(lambda s:s.lower() if type(s) == str else s)\n",
    "    return Data"
   ]
  },
  {
   "cell_type": "code",
   "execution_count": 4,
   "metadata": {},
   "outputs": [],
   "source": [
    "Data=inAprenter(Data)"
   ]
  },
  {
   "cell_type": "code",
   "execution_count": 5,
   "metadata": {},
   "outputs": [],
   "source": [
    "Data=nullElimination(Data,0)"
   ]
  },
  {
   "cell_type": "code",
   "execution_count": 6,
   "metadata": {},
   "outputs": [
    {
     "name": "stderr",
     "output_type": "stream",
     "text": [
      "F:\\Windows\\Anaconda3\\envs\\AI\\lib\\site-packages\\ipykernel_launcher.py:9: SettingWithCopyWarning: \n",
      "A value is trying to be set on a copy of a slice from a DataFrame\n",
      "\n",
      "See the caveats in the documentation: http://pandas.pydata.org/pandas-docs/stable/user_guide/indexing.html#returning-a-view-versus-a-copy\n",
      "  if __name__ == '__main__':\n",
      "F:\\Windows\\Anaconda3\\envs\\AI\\lib\\site-packages\\ipykernel_launcher.py:6: SettingWithCopyWarning: \n",
      "A value is trying to be set on a copy of a slice from a DataFrame\n",
      "\n",
      "See the caveats in the documentation: http://pandas.pydata.org/pandas-docs/stable/user_guide/indexing.html#returning-a-view-versus-a-copy\n",
      "  \n"
     ]
    }
   ],
   "source": [
    "Data=nullMng(Data,Null_values='mean')"
   ]
  },
  {
   "cell_type": "code",
   "execution_count": 7,
   "metadata": {},
   "outputs": [
    {
     "data": {
      "text/plain": [
       "(1460, 62)"
      ]
     },
     "execution_count": 7,
     "metadata": {},
     "output_type": "execute_result"
    }
   ],
   "source": [
    "Data.shape"
   ]
  },
  {
   "cell_type": "code",
   "execution_count": 8,
   "metadata": {
    "scrolled": true
   },
   "outputs": [],
   "source": [
    "Data=dataEncoding(Data)"
   ]
  },
  {
   "cell_type": "code",
   "execution_count": 9,
   "metadata": {},
   "outputs": [
    {
     "data": {
      "text/plain": [
       "(1460, 190)"
      ]
     },
     "execution_count": 9,
     "metadata": {},
     "output_type": "execute_result"
    }
   ],
   "source": [
    "Data.shape"
   ]
  },
  {
   "cell_type": "code",
   "execution_count": 10,
   "metadata": {},
   "outputs": [
    {
     "name": "stdout",
     "output_type": "stream",
     "text": [
      "<class 'pandas.core.frame.DataFrame'>\n",
      "Int64Index: 1460 entries, 0 to 1459\n",
      "Columns: 190 entries, Id to SalePrice\n",
      "dtypes: int64(35), uint8(155)\n",
      "memory usage: 631.6 KB\n"
     ]
    }
   ],
   "source": [
    "Data.info()"
   ]
  },
  {
   "cell_type": "code",
   "execution_count": 11,
   "metadata": {},
   "outputs": [],
   "source": [
    "from sklearn.model_selection import train_test_split\n",
    "from sklearn.linear_model import LinearRegression,Ridge,Lasso,ARDRegression,HuberRegressor"
   ]
  },
  {
   "cell_type": "code",
   "execution_count": 12,
   "metadata": {},
   "outputs": [],
   "source": [
    "model1=LinearRegression()\n",
    "model2=Ridge()\n",
    "model3=Lasso()\n",
    "model4=ARDRegression()\n",
    "model5=HuberRegressor()"
   ]
  },
  {
   "cell_type": "code",
   "execution_count": 13,
   "metadata": {},
   "outputs": [],
   "source": [
    "y=Data.values[:,Data.shape[1]-1]\n",
    "X=Data.values[:,1:Data.shape[1]-1]"
   ]
  },
  {
   "cell_type": "code",
   "execution_count": 14,
   "metadata": {},
   "outputs": [],
   "source": [
    "X,x,Y,y=train_test_split(X,y,test_size=0.25)"
   ]
  },
  {
   "cell_type": "code",
   "execution_count": 15,
   "metadata": {},
   "outputs": [
    {
     "data": {
      "text/plain": [
       "(1095, 188)"
      ]
     },
     "execution_count": 15,
     "metadata": {},
     "output_type": "execute_result"
    }
   ],
   "source": [
    "X.shape"
   ]
  },
  {
   "cell_type": "code",
   "execution_count": 16,
   "metadata": {},
   "outputs": [
    {
     "data": {
      "text/plain": [
       "(365, 188)"
      ]
     },
     "execution_count": 16,
     "metadata": {},
     "output_type": "execute_result"
    }
   ],
   "source": [
    "x.shape"
   ]
  },
  {
   "cell_type": "code",
   "execution_count": 17,
   "metadata": {},
   "outputs": [
    {
     "name": "stderr",
     "output_type": "stream",
     "text": [
      "F:\\Windows\\Anaconda3\\envs\\AI\\lib\\site-packages\\sklearn\\linear_model\\_coordinate_descent.py:531: ConvergenceWarning: Objective did not converge. You might want to increase the number of iterations. Duality gap: 144808347338.25436, tolerance: 749415584.5630922\n",
      "  positive)\n",
      "F:\\Windows\\Anaconda3\\envs\\AI\\lib\\site-packages\\sklearn\\linear_model\\_huber.py:296: ConvergenceWarning: lbfgs failed to converge (status=1):\n",
      "STOP: TOTAL NO. of ITERATIONS REACHED LIMIT.\n",
      "\n",
      "Increase the number of iterations (max_iter) or scale the data as shown in:\n",
      "    https://scikit-learn.org/stable/modules/preprocessing.html\n",
      "  self.n_iter_ = _check_optimize_result(\"lbfgs\", opt_res, self.max_iter)\n"
     ]
    },
    {
     "data": {
      "text/plain": [
       "HuberRegressor()"
      ]
     },
     "execution_count": 17,
     "metadata": {},
     "output_type": "execute_result"
    }
   ],
   "source": [
    "model1.fit(X,Y)\n",
    "model2.fit(X,Y)\n",
    "model3.fit(X,Y)\n",
    "model4.fit(X,Y)\n",
    "model5.fit(X,Y)"
   ]
  },
  {
   "cell_type": "code",
   "execution_count": 18,
   "metadata": {},
   "outputs": [
    {
     "name": "stdout",
     "output_type": "stream",
     "text": [
      "0.9114395082032486\n",
      "0.9034196307622624\n",
      "0.9117995088495703\n",
      "0.9082172289206576\n",
      "0.8991172041579197\n"
     ]
    }
   ],
   "source": [
    "print(((model1.predict(x)-abs(model1.predict(x)-y))/y).mean())\n",
    "print(((model2.predict(x)-abs(model2.predict(x)-y))/y).mean())\n",
    "print(((model3.predict(x)-abs(model3.predict(x)-y))/y).mean())\n",
    "print(((model4.predict(x)-abs(model4.predict(x)-y))/y).mean())\n",
    "print(((model5.predict(x)-abs(model5.predict(x)-y))/y).mean())"
   ]
  },
  {
   "cell_type": "code",
   "execution_count": 19,
   "metadata": {},
   "outputs": [],
   "source": [
    "import matplotlib.pyplot as plt"
   ]
  },
  {
   "cell_type": "code",
   "execution_count": 20,
   "metadata": {},
   "outputs": [
    {
     "data": {
      "image/png": "[encoded data removed]",
      "text/plain": [
       "<Figure size 432x288 with 1 Axes>"
      ]
     },
     "metadata": {
      "needs_background": "light"
     },
     "output_type": "display_data"
    }
   ],
   "source": [
    "plt.plot(Data.values[:,0],Data.values[:,Data.shape[1]-1])\n",
    "plt.show()"
   ]
  },
  {
   "cell_type": "code",
   "execution_count": 21,
   "metadata": {},
   "outputs": [
    {
     "data": {
      "image/png": "[encoded data removed]",
      "text/plain": [
       "<Figure size 432x288 with 1 Axes>"
      ]
     },
     "metadata": {
      "needs_background": "light"
     },
     "output_type": "display_data"
    }
   ],
   "source": [
    "plt.scatter(Data.values[:,0],Data.values[:,Data.shape[1]-1])\n",
    "plt.show()"
   ]
  },
  {
   "cell_type": "code",
   "execution_count": 22,
   "metadata": {},
   "outputs": [],
   "source": [
    "for i in range(Data.shape[0]-1):\n",
    "        if Data[Data.columns[Data.shape[1]-1]][i]>400000:\n",
    "            Data=Data.drop([i],axis=0)"
   ]
  },
  {
   "cell_type": "code",
   "execution_count": 23,
   "metadata": {},
   "outputs": [
    {
     "data": {
      "image/png": "[encoded data removed]",
      "text/plain": [
       "<Figure size 432x288 with 1 Axes>"
      ]
     },
     "metadata": {
      "needs_background": "light"
     },
     "output_type": "display_data"
    }
   ],
   "source": [
    "plt.scatter(Data.values[:,0],Data.values[:,Data.shape[1]-1])\n",
    "plt.show()"
   ]
  },
  {
   "cell_type": "code",
   "execution_count": 24,
   "metadata": {},
   "outputs": [
    {
     "data": {
      "text/plain": [
       "(1432, 190)"
      ]
     },
     "execution_count": 24,
     "metadata": {},
     "output_type": "execute_result"
    }
   ],
   "source": [
    "Data.shape"
   ]
  },
  {
   "cell_type": "code",
   "execution_count": 25,
   "metadata": {},
   "outputs": [],
   "source": [
    "y=Data.values[:,Data.shape[1]-1]\n",
    "X=Data.values[:,1:Data.shape[1]-1]"
   ]
  },
  {
   "cell_type": "code",
   "execution_count": 26,
   "metadata": {},
   "outputs": [],
   "source": [
    "X,x,Y,y=train_test_split(X,y,test_size=0.25)"
   ]
  },
  {
   "cell_type": "code",
   "execution_count": 27,
   "metadata": {},
   "outputs": [
    {
     "name": "stderr",
     "output_type": "stream",
     "text": [
      "F:\\Windows\\Anaconda3\\envs\\AI\\lib\\site-packages\\sklearn\\linear_model\\_coordinate_descent.py:531: ConvergenceWarning: Objective did not converge. You might want to increase the number of iterations. Duality gap: 122470057796.00064, tolerance: 464086175.4321885\n",
      "  positive)\n",
      "F:\\Windows\\Anaconda3\\envs\\AI\\lib\\site-packages\\sklearn\\linear_model\\_huber.py:296: ConvergenceWarning: lbfgs failed to converge (status=1):\n",
      "STOP: TOTAL NO. of ITERATIONS REACHED LIMIT.\n",
      "\n",
      "Increase the number of iterations (max_iter) or scale the data as shown in:\n",
      "    https://scikit-learn.org/stable/modules/preprocessing.html\n",
      "  self.n_iter_ = _check_optimize_result(\"lbfgs\", opt_res, self.max_iter)\n"
     ]
    },
    {
     "data": {
      "text/plain": [
       "HuberRegressor()"
      ]
     },
     "execution_count": 27,
     "metadata": {},
     "output_type": "execute_result"
    }
   ],
   "source": [
    "model1.fit(X,Y)\n",
    "model2.fit(X,Y)\n",
    "model3.fit(X,Y)\n",
    "model4.fit(X,Y)\n",
    "model5.fit(X,Y)"
   ]
  },
  {
   "cell_type": "code",
   "execution_count": 28,
   "metadata": {},
   "outputs": [
    {
     "name": "stdout",
     "output_type": "stream",
     "text": [
      "0.896511773828751\n",
      "0.9043735223173675\n",
      "0.8970320437867693\n",
      "0.9008363442166806\n",
      "0.8867790192457328\n"
     ]
    }
   ],
   "source": [
    "print(((model1.predict(x)-abs(model1.predict(x)-y))/y).mean())\n",
    "print(((model2.predict(x)-abs(model2.predict(x)-y))/y).mean())\n",
    "print(((model3.predict(x)-abs(model3.predict(x)-y))/y).mean())\n",
    "print(((model4.predict(x)-abs(model4.predict(x)-y))/y).mean())\n",
    "print(((model5.predict(x)-abs(model5.predict(x)-y))/y).mean())"
   ]
  },
  {
   "cell_type": "code",
   "execution_count": null,
   "metadata": {
    "collapsed": true
   },
   "outputs": [],
   "source": []
  }
 ],
 "metadata": {
  "kernelspec": {
   "display_name": "Python 3",
   "language": "python",
   "name": "python3"
  },
  "language_info": {
   "codemirror_mode": {
    "name": "ipython",
    "version": 3
   },
   "file_extension": ".py",
   "mimetype": "text/x-python",
   "name": "python",
   "nbconvert_exporter": "python",
   "pygments_lexer": "ipython3",
   "version": "3.7.6"
  }
 },
 "nbformat": 4,
 "nbformat_minor": 2
}
